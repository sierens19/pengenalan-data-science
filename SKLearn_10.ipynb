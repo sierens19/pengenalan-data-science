{
  "nbformat": 4,
  "nbformat_minor": 0,
  "metadata": {
    "colab": {
      "provenance": []
    },
    "kernelspec": {
      "name": "python3",
      "display_name": "Python 3"
    },
    "language_info": {
      "name": "python"
    }
  },
  "cells": [
    {
      "cell_type": "markdown",
      "source": [
        "#10 Mengenal Text Processing: Bag of Words & Stop Word Filtering"
      ],
      "metadata": {
        "id": "kt3U4s3HYer2"
      }
    },
    {
      "cell_type": "markdown",
      "source": [
        "Dataset"
      ],
      "metadata": {
        "id": "gU2SvVSTYzQ7"
      }
    },
    {
      "cell_type": "code",
      "execution_count": 20,
      "metadata": {
        "colab": {
          "base_uri": "https://localhost:8080/"
        },
        "id": "sWcB3bcjYIZS",
        "outputId": "e226b74d-69d0-46f9-917d-4aea577f437d"
      },
      "outputs": [
        {
          "output_type": "execute_result",
          "data": {
            "text/plain": [
              "['Linux has been around since the mid-1990s.',\n",
              " 'Linux distributions include the Linux Kernel.',\n",
              " 'Linux is one of the most prominent open-source software.']"
            ]
          },
          "metadata": {},
          "execution_count": 20
        }
      ],
      "source": [
        "corpus = [\n",
        "    'Linux has been around since the mid-1990s.',\n",
        "    'Linux distributions include the Linux Kernel.',\n",
        "    'Linux is one of the most prominent open-source software.'\n",
        "]\n",
        "\n",
        "corpus"
      ]
    },
    {
      "cell_type": "markdown",
      "source": [
        "Bag of Words model dengan CountVectorizer"
      ],
      "metadata": {
        "id": "a8v_KgIyZYO3"
      }
    },
    {
      "cell_type": "code",
      "source": [
        "from sklearn.feature_extraction.text import CountVectorizer\n",
        "\n",
        "vectorizer = CountVectorizer()\n",
        "vectorized_X = vectorizer.fit_transform(corpus).toarray()\n",
        "distances = euclidean_distances(vectorized_X)"
      ],
      "metadata": {
        "id": "C6nxXDKXZfC_"
      },
      "execution_count": 21,
      "outputs": []
    },
    {
      "cell_type": "markdown",
      "source": [
        "Euclidean Distance untuk mengukur kedekatan/jarak antar dokumen (vector)"
      ],
      "metadata": {
        "id": "0iB1YJjVu_Xr"
      }
    },
    {
      "cell_type": "code",
      "source": [
        "from sklearn.metrics.pairwise import euclidean_distances\n",
        "\n",
        "for i in range(len(distances)):\n",
        "    for j in range(i, len(distances)):\n",
        "        if i == j:\n",
        "            continue\n",
        "        jarak = distances[i] [j]\n",
        "        print(f'Jarak dokumen {i+1} dan {j+1}: {jarak}')"
      ],
      "metadata": {
        "colab": {
          "base_uri": "https://localhost:8080/"
        },
        "id": "gwDXeaRIvGXr",
        "outputId": "b277a6df-5510-4070-bff3-b57bec1b0d6a"
      },
      "execution_count": 22,
      "outputs": [
        {
          "output_type": "stream",
          "name": "stdout",
          "text": [
            "Jarak dokumen 1 dan 2: 3.1622776601683795\n",
            "Jarak dokumen 1 dan 3: 3.7416573867739413\n",
            "Jarak dokumen 2 dan 3: 3.4641016151377544\n"
          ]
        }
      ]
    },
    {
      "cell_type": "markdown",
      "source": [
        "#Stop Word Filtering pada text"
      ],
      "metadata": {
        "id": "M9GYYwNhxs-C"
      }
    },
    {
      "cell_type": "markdown",
      "source": [
        "Dataset"
      ],
      "metadata": {
        "id": "Jn30Y9zUxwWl"
      }
    },
    {
      "cell_type": "code",
      "source": [
        "corpus"
      ],
      "metadata": {
        "colab": {
          "base_uri": "https://localhost:8080/"
        },
        "id": "vZxrJ8Xsxydx",
        "outputId": "f1b3dcf2-b0c6-4ef7-e71e-d0a1358e9c52"
      },
      "execution_count": 23,
      "outputs": [
        {
          "output_type": "execute_result",
          "data": {
            "text/plain": [
              "['Linux has been around since the mid-1990s.',\n",
              " 'Linux distributions include the Linux Kernel.',\n",
              " 'Linux is one of the most prominent open-source software.']"
            ]
          },
          "metadata": {},
          "execution_count": 23
        }
      ]
    },
    {
      "cell_type": "markdown",
      "source": [
        "Stop Word Filtering dengan CountVectorizer"
      ],
      "metadata": {
        "id": "RqylHI-yx8dZ"
      }
    },
    {
      "cell_type": "code",
      "source": [
        "from sklearn.feature_extraction.text import CountVectorizer\n",
        "\n",
        "vectorizer = CountVectorizer(stop_words='english')\n",
        "vectorized_X = vectorizer.fit_transform(corpus).todense()\n",
        "vectorized_X"
      ],
      "metadata": {
        "colab": {
          "base_uri": "https://localhost:8080/"
        },
        "id": "ajoI2dviyBa7",
        "outputId": "5168e6a7-5c67-4e27-965f-fac1c251aacb"
      },
      "execution_count": 25,
      "outputs": [
        {
          "output_type": "execute_result",
          "data": {
            "text/plain": [
              "matrix([[1, 0, 0, 0, 1, 1, 0, 0, 0, 0],\n",
              "        [0, 1, 1, 1, 2, 0, 0, 0, 0, 0],\n",
              "        [0, 0, 0, 0, 1, 0, 1, 1, 1, 1]])"
            ]
          },
          "metadata": {},
          "execution_count": 25
        }
      ]
    }
  ]
}