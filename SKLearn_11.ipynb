{
  "nbformat": 4,
  "nbformat_minor": 0,
  "metadata": {
    "colab": {
      "provenance": []
    },
    "kernelspec": {
      "name": "python3",
      "display_name": "Python 3"
    },
    "language_info": {
      "name": "python"
    }
  },
  "cells": [
    {
      "cell_type": "markdown",
      "source": [
        "#11 Mengenal TF-IDF (Term Frequency - Inverse Document Frequency)"
      ],
      "metadata": {
        "id": "G-Gk3-NFzO9h"
      }
    },
    {
      "cell_type": "markdown",
      "source": [
        "Dataset"
      ],
      "metadata": {
        "id": "jZHT5vu2zji4"
      }
    },
    {
      "cell_type": "code",
      "execution_count": 7,
      "metadata": {
        "colab": {
          "base_uri": "https://localhost:8080/"
        },
        "id": "9wZ86LRmy5Rk",
        "outputId": "447cb01f-d614-43b4-f982-9a9a8ce25cfc"
      },
      "outputs": [
        {
          "output_type": "execute_result",
          "data": {
            "text/plain": [
              "['the house had a tiny little mouse',\n",
              " 'the cat saw the mouse',\n",
              " 'the mouse ran away from the house',\n",
              " 'the cat finally ate the mouse',\n",
              " 'the end of the mouse story']"
            ]
          },
          "metadata": {},
          "execution_count": 7
        }
      ],
      "source": [
        "corpus = [\n",
        "    'the house had a tiny little mouse',\n",
        "    'the cat saw the mouse',\n",
        "    'the mouse ran away from the house',\n",
        "    'the cat finally ate the mouse',\n",
        "    'the end of the mouse story'\n",
        "]\n",
        "\n",
        "corpus"
      ]
    },
    {
      "cell_type": "markdown",
      "source": [
        "TF-IDF Weights dengan TfidfVectorizer"
      ],
      "metadata": {
        "id": "-Z8vyNANz9-0"
      }
    },
    {
      "cell_type": "code",
      "source": [
        "from sklearn.feature_extraction.text import TfidfVectorizer\n",
        "\n",
        "vectorizer = TfidfVectorizer(stop_words='english')\n",
        "response = vectorizer.fit_transform(corpus)\n",
        "print(response)"
      ],
      "metadata": {
        "colab": {
          "base_uri": "https://localhost:8080/"
        },
        "id": "07cvttCp0FLU",
        "outputId": "986f1fc5-f433-4da1-9d23-7e4f2c1dc8c7"
      },
      "execution_count": 8,
      "outputs": [
        {
          "output_type": "stream",
          "name": "stdout",
          "text": [
            "  (0, 7)\t0.2808823162882302\n",
            "  (0, 6)\t0.5894630806320427\n",
            "  (0, 11)\t0.5894630806320427\n",
            "  (0, 5)\t0.47557510189256375\n",
            "  (1, 9)\t0.7297183669435993\n",
            "  (1, 2)\t0.5887321837696324\n",
            "  (1, 7)\t0.3477147117091919\n",
            "  (2, 1)\t0.5894630806320427\n",
            "  (2, 8)\t0.5894630806320427\n",
            "  (2, 7)\t0.2808823162882302\n",
            "  (2, 5)\t0.47557510189256375\n",
            "  (3, 0)\t0.5894630806320427\n",
            "  (3, 4)\t0.5894630806320427\n",
            "  (3, 2)\t0.47557510189256375\n",
            "  (3, 7)\t0.2808823162882302\n",
            "  (4, 10)\t0.6700917930430479\n",
            "  (4, 3)\t0.6700917930430479\n",
            "  (4, 7)\t0.3193023297639811\n"
          ]
        }
      ]
    },
    {
      "cell_type": "code",
      "source": [
        "vectorizer.get_feature_names()"
      ],
      "metadata": {
        "colab": {
          "base_uri": "https://localhost:8080/",
          "height": 145
        },
        "id": "xTzOdd9r0eXH",
        "outputId": "c8028bd0-9c78-455f-fece-1ed38dbffbb0"
      },
      "execution_count": 9,
      "outputs": [
        {
          "output_type": "error",
          "ename": "AttributeError",
          "evalue": "'TfidfVectorizer' object has no attribute 'get_feature_names'",
          "traceback": [
            "\u001b[0;31m---------------------------------------------------------------------------\u001b[0m",
            "\u001b[0;31mAttributeError\u001b[0m                            Traceback (most recent call last)",
            "\u001b[0;32m<ipython-input-9-94b2630ba532>\u001b[0m in \u001b[0;36m<cell line: 1>\u001b[0;34m()\u001b[0m\n\u001b[0;32m----> 1\u001b[0;31m \u001b[0mvectorizer\u001b[0m\u001b[0;34m.\u001b[0m\u001b[0mget_feature_names\u001b[0m\u001b[0;34m(\u001b[0m\u001b[0;34m)\u001b[0m\u001b[0;34m\u001b[0m\u001b[0;34m\u001b[0m\u001b[0m\n\u001b[0m",
            "\u001b[0;31mAttributeError\u001b[0m: 'TfidfVectorizer' object has no attribute 'get_feature_names'"
          ]
        }
      ]
    },
    {
      "cell_type": "code",
      "source": [
        "response.todense()"
      ],
      "metadata": {
        "colab": {
          "base_uri": "https://localhost:8080/"
        },
        "id": "Il6U0jxo0l-J",
        "outputId": "09975acc-49e0-460c-d551-8385d441e8f6"
      },
      "execution_count": 10,
      "outputs": [
        {
          "output_type": "execute_result",
          "data": {
            "text/plain": [
              "matrix([[0.        , 0.        , 0.        , 0.        , 0.        ,\n",
              "         0.4755751 , 0.58946308, 0.28088232, 0.        , 0.        ,\n",
              "         0.        , 0.58946308],\n",
              "        [0.        , 0.        , 0.58873218, 0.        , 0.        ,\n",
              "         0.        , 0.        , 0.34771471, 0.        , 0.72971837,\n",
              "         0.        , 0.        ],\n",
              "        [0.        , 0.58946308, 0.        , 0.        , 0.        ,\n",
              "         0.4755751 , 0.        , 0.28088232, 0.58946308, 0.        ,\n",
              "         0.        , 0.        ],\n",
              "        [0.58946308, 0.        , 0.4755751 , 0.        , 0.58946308,\n",
              "         0.        , 0.        , 0.28088232, 0.        , 0.        ,\n",
              "         0.        , 0.        ],\n",
              "        [0.        , 0.        , 0.        , 0.67009179, 0.        ,\n",
              "         0.        , 0.        , 0.31930233, 0.        , 0.        ,\n",
              "         0.67009179, 0.        ]])"
            ]
          },
          "metadata": {},
          "execution_count": 10
        }
      ]
    },
    {
      "cell_type": "code",
      "source": [
        "import pandas as pd\n",
        "\n",
        "df = pd.DataFrame(response.todense().T,\n",
        "                  index=vectorizer.get_feature_names(),\n",
        "                  columns=[f'D{i+1}' for i in range(len(corpus))])"
      ],
      "metadata": {
        "colab": {
          "base_uri": "https://localhost:8080/",
          "height": 199
        },
        "id": "lEmk_tW50qYP",
        "outputId": "154d3d6c-eeb0-43cc-caaa-08eedc8ce685"
      },
      "execution_count": 11,
      "outputs": [
        {
          "output_type": "error",
          "ename": "AttributeError",
          "evalue": "'TfidfVectorizer' object has no attribute 'get_feature_names'",
          "traceback": [
            "\u001b[0;31m---------------------------------------------------------------------------\u001b[0m",
            "\u001b[0;31mAttributeError\u001b[0m                            Traceback (most recent call last)",
            "\u001b[0;32m<ipython-input-11-558460d7967f>\u001b[0m in \u001b[0;36m<cell line: 3>\u001b[0;34m()\u001b[0m\n\u001b[1;32m      2\u001b[0m \u001b[0;34m\u001b[0m\u001b[0m\n\u001b[1;32m      3\u001b[0m df = pd.DataFrame(response.todense().T,\n\u001b[0;32m----> 4\u001b[0;31m                   \u001b[0mindex\u001b[0m\u001b[0;34m=\u001b[0m\u001b[0mvectorizer\u001b[0m\u001b[0;34m.\u001b[0m\u001b[0mget_feature_names\u001b[0m\u001b[0;34m(\u001b[0m\u001b[0;34m)\u001b[0m\u001b[0;34m,\u001b[0m\u001b[0;34m\u001b[0m\u001b[0;34m\u001b[0m\u001b[0m\n\u001b[0m\u001b[1;32m      5\u001b[0m                   columns=[f'D{i+1}' for i in range(len(corpus))])\n",
            "\u001b[0;31mAttributeError\u001b[0m: 'TfidfVectorizer' object has no attribute 'get_feature_names'"
          ]
        }
      ]
    }
  ]
}